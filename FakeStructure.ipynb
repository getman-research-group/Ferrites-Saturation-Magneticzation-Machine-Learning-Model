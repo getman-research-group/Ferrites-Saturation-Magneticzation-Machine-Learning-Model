{
 "cells": [
  {
   "cell_type": "code",
   "execution_count": 24,
   "metadata": {},
   "outputs": [],
   "source": [
    "element = ['Fe', 'Mn']"
   ]
  },
  {
   "cell_type": "code",
   "execution_count": 25,
   "metadata": {},
   "outputs": [
    {
     "name": "stdout",
     "output_type": "stream",
     "text": [
      "[['Mn', 'Fe', 'Mn', 'Mn', 'Mn', 'Fe', 'Fe', 'Mn'], ['Fe', 'Mn', 'Mn', 'Fe', 'Mn', 'Fe', 'Fe', 'Fe'], ['Mn', 'Mn', 'Mn', 'Mn', 'Fe', 'Fe', 'Fe', 'Mn'], ['Fe', 'Fe', 'Mn', 'Mn', 'Mn', 'Mn', 'Mn', 'Mn'], ['Fe', 'Mn', 'Fe', 'Mn', 'Mn', 'Fe', 'Fe', 'Mn']]\n"
     ]
    }
   ],
   "source": [
    "import random\n",
    "totalist =[]\n",
    "for i in range(0,10000):\n",
    "    list = []\n",
    "    for j in range(8):\n",
    "        a = random.sample(element,1)\n",
    "        list.append(a)   \n",
    "        listf = sum(list, [])\n",
    "    totalist.append(listf)          \n",
    "print(totalist[0:5])"
   ]
  },
  {
   "cell_type": "code",
   "execution_count": 26,
   "metadata": {},
   "outputs": [],
   "source": [
    "# textTotalX =[]\n",
    "# for line in totalist:\n",
    "#     newline =' '.join(line)\n",
    "#     textTotalX.append(newline) \n",
    "# print(textTotalX)"
   ]
  },
  {
   "cell_type": "code",
   "execution_count": 27,
   "metadata": {},
   "outputs": [],
   "source": [
    "# def unique(list1): \n",
    "  \n",
    "#     # intilize a null list \n",
    "#     unique_list = [] \n",
    "      \n",
    "#     # traverse for all elements \n",
    "#     for x in list1: \n",
    "#         # check if exists in unique_list or not \n",
    "#         if x not in unique_list: \n",
    "#             unique_list.append(x) \n",
    "#     # print list \n",
    "#     for x in unique_list: \n",
    "#         print x \n",
    "\n",
    "        \n",
    "# unique(totalist)"
   ]
  },
  {
   "cell_type": "code",
   "execution_count": 28,
   "metadata": {},
   "outputs": [
    {
     "name": "stdout",
     "output_type": "stream",
     "text": [
      "Mn Fe Mn Mn Mn Fe Fe Mn\n",
      "256\n"
     ]
    }
   ],
   "source": [
    "new_li=[]\n",
    "for i in totalist:\n",
    "    if i not in new_li:\n",
    "        new_li.append(i)\n",
    "\n",
    "#print(new_li)\n",
    "\n",
    "print(' '.join(new_li[0]))\n",
    "print(len(new_li))"
   ]
  },
  {
   "cell_type": "code",
   "execution_count": 29,
   "metadata": {},
   "outputs": [],
   "source": [
    "# file_handle =open('student_v2.txt',mode='w')\n",
    "tt=[]\n",
    "for i in range(len(new_li)):\n",
    "    newline = ' '.join(new_li[i])\n",
    "    tt.append(newline)\n",
    "    \n",
    "    \n",
    "    \n",
    "#     file_handle.write(newline)    \n",
    "#     file_handle.write('\\n')\n",
    "# file_handle.close()"
   ]
  },
  {
   "cell_type": "code",
   "execution_count": 30,
   "metadata": {},
   "outputs": [],
   "source": [
    "\n",
    "with open(\"Fe_Mn.txt\", 'a') as file:\n",
    "          for item in tt:\n",
    "                file.write(item)\n",
    "                file.write('\\n')"
   ]
  },
  {
   "cell_type": "code",
   "execution_count": null,
   "metadata": {},
   "outputs": [],
   "source": []
  }
 ],
 "metadata": {
  "kernelspec": {
   "display_name": "Python 3",
   "language": "python",
   "name": "python3"
  },
  "language_info": {
   "codemirror_mode": {
    "name": "ipython",
    "version": 3
   },
   "file_extension": ".py",
   "mimetype": "text/x-python",
   "name": "python",
   "nbconvert_exporter": "python",
   "pygments_lexer": "ipython3",
   "version": "3.7.3"
  }
 },
 "nbformat": 4,
 "nbformat_minor": 2
}
