{
 "cells": [
  {
   "cell_type": "code",
   "execution_count": 1,
   "metadata": {},
   "outputs": [
    {
     "name": "stdout",
     "output_type": "stream",
     "text": [
      "[['Fe', 'Ni', 'Ni', 'Ni', 'Ni', 'Fe', 'Fe', 'Fe'], ['Ni', 'Fe', 'Fe', 'Ni', 'Ni', 'Ni', 'Fe', 'Fe'], ['Fe', 'Ni', 'Ni', 'Fe', 'Fe', 'Fe', 'Ni', 'Ni'], ['Fe', 'Ni', 'Ni', 'Ni', 'Ni', 'Fe', 'Fe', 'Fe'], ['Ni', 'Fe', 'Fe', 'Ni', 'Ni', 'Ni', 'Fe', 'Fe'], ['Fe', 'Fe', 'Ni', 'Fe', 'Ni', 'Fe', 'Ni', 'Ni'], ['Ni', 'Fe', 'Fe', 'Fe', 'Fe', 'Ni', 'Ni', 'Ni'], ['Fe', 'Ni', 'Fe', 'Ni', 'Ni', 'Fe', 'Ni', 'Fe'], ['Fe', 'Ni', 'Fe', 'Fe', 'Fe', 'Ni', 'Ni', 'Ni'], ['Fe', 'Ni', 'Ni', 'Fe', 'Fe', 'Fe', 'Ni', 'Ni']]\n"
     ]
    }
   ],
   "source": [
    "import random\n",
    "import numpy\n",
    "\n",
    "totalist =[]\n",
    "for j in range(1000):\n",
    "    element = ['Fe','Ni']\n",
    "    sq = [0,0,0,0,0,0,0,0]\n",
    "    n = 2\n",
    "    i =0\n",
    "    n = 4\n",
    "    m = 4\n",
    "    while i < 8:\n",
    "        a = random.sample(element,1)\n",
    "        if (a ==['Fe'] and n > 0):\n",
    "            sq[i] = 'Fe'\n",
    "            i = i + 1\n",
    "            n = n - 1\n",
    "            #print('true',i)\n",
    "        elif (a ==['Ni'] and m > 0):\n",
    "            sq[i] = 'Ni'\n",
    "            i = i + 1\n",
    "            m = m - 1\n",
    "    totalist.append(sq)\n",
    "print(totalist[0:10])"
   ]
  },
  {
   "cell_type": "code",
   "execution_count": 2,
   "metadata": {},
   "outputs": [],
   "source": [
    "# textTotalX =[]\n",
    "# for line in totalist:\n",
    "#     newline =' '.join(line)\n",
    "#     textTotalX.append(newline) \n",
    "# print(textTotalX)"
   ]
  },
  {
   "cell_type": "code",
   "execution_count": 3,
   "metadata": {},
   "outputs": [],
   "source": [
    "# def unique(list1): \n",
    "  \n",
    "#     # intilize a null list \n",
    "#     unique_list = [] \n",
    "      \n",
    "#     # traverse for all elements \n",
    "#     for x in list1: \n",
    "#         # check if exists in unique_list or not \n",
    "#         if x not in unique_list: \n",
    "#             unique_list.append(x) \n",
    "#     # print list \n",
    "#     for x in unique_list: \n",
    "#         print x \n",
    "\n",
    "        \n",
    "# unique(totalist)"
   ]
  },
  {
   "cell_type": "code",
   "execution_count": 4,
   "metadata": {},
   "outputs": [
    {
     "name": "stdout",
     "output_type": "stream",
     "text": [
      "Fe Ni Ni Ni Ni Fe Fe Fe\n",
      "70\n"
     ]
    }
   ],
   "source": [
    "new_li=[]\n",
    "for i in totalist:\n",
    "    if i not in new_li:\n",
    "        new_li.append(i)\n",
    "\n",
    "#print(new_li)\n",
    "\n",
    "print(' '.join(new_li[0]))\n",
    "print(len(new_li))"
   ]
  },
  {
   "cell_type": "code",
   "execution_count": 5,
   "metadata": {},
   "outputs": [],
   "source": [
    "# file_handle =open('student_v2.txt',mode='w')\n",
    "tt=[]\n",
    "for i in range(len(new_li)):\n",
    "    newline = ' '.join(new_li[i])\n",
    "    tt.append(newline)\n",
    "    \n",
    "    \n",
    "    \n",
    "#     file_handle.write(newline)    \n",
    "#     file_handle.write('\\n')\n",
    "# file_handle.close()"
   ]
  },
  {
   "cell_type": "code",
   "execution_count": 6,
   "metadata": {},
   "outputs": [],
   "source": [
    "\n",
    "with open(\"Fe_Ni_new.txt\", 'a') as file:\n",
    "          for item in tt:\n",
    "                file.write(item)\n",
    "                file.write('\\n')"
   ]
  },
  {
   "cell_type": "code",
   "execution_count": null,
   "metadata": {},
   "outputs": [],
   "source": []
  }
 ],
 "metadata": {
  "kernelspec": {
   "display_name": "Python 3",
   "language": "python",
   "name": "python3"
  },
  "language_info": {
   "codemirror_mode": {
    "name": "ipython",
    "version": 3
   },
   "file_extension": ".py",
   "mimetype": "text/x-python",
   "name": "python",
   "nbconvert_exporter": "python",
   "pygments_lexer": "ipython3",
   "version": "3.7.3"
  }
 },
 "nbformat": 4,
 "nbformat_minor": 2
}
